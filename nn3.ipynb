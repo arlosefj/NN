{
 "cells": [
  {
   "cell_type": "markdown",
   "metadata": {},
   "source": [
    "# 导入库"
   ]
  },
  {
   "cell_type": "code",
   "execution_count": 1,
   "metadata": {},
   "outputs": [],
   "source": [
    "import numpy as np\n",
    "from scipy import ndimage\n",
    "import matplotlib.pyplot as plt\n",
    "from load_data import *\n",
    "%matplotlib inline"
   ]
  },
  {
   "cell_type": "markdown",
   "metadata": {},
   "source": [
    "# 载入数据"
   ]
  },
  {
   "cell_type": "code",
   "execution_count": 2,
   "metadata": {},
   "outputs": [],
   "source": [
    "training_data, validation_data, test_data = load_data_wrapper()"
   ]
  },
  {
   "cell_type": "markdown",
   "metadata": {},
   "source": [
    "# 训练参数"
   ]
  },
  {
   "cell_type": "code",
   "execution_count": 3,
   "metadata": {},
   "outputs": [],
   "source": [
    "n_epoch = 30\n",
    "learning_rate = 0.1\n",
    "batch_size = 10\n",
    "\n",
    "# for momentum-based SGD\n",
    "mu = 0.9 # momentum\n",
    "v_b2 = 0\n",
    "v_b3 = 0\n",
    "v_W2 = 0\n",
    "v_W3 = 0"
   ]
  },
  {
   "cell_type": "markdown",
   "metadata": {},
   "source": [
    "# 网络结构"
   ]
  },
  {
   "cell_type": "code",
   "execution_count": 4,
   "metadata": {},
   "outputs": [],
   "source": [
    "n_node_input = 784\n",
    "n_node_hidden = 100\n",
    "n_node_output = 10"
   ]
  },
  {
   "cell_type": "markdown",
   "metadata": {},
   "source": [
    "# 权重与偏置"
   ]
  },
  {
   "cell_type": "code",
   "execution_count": 9,
   "metadata": {},
   "outputs": [],
   "source": [
    "W2=np.random.randn(n_node_hidden, n_node_input)\n",
    "b2=np.random.randn(n_node_hidden, 1)\n",
    "\n",
    "W3=np.random.randn(n_node_output, n_node_hidden)\n",
    "b3=np.random.randn(n_node_output, 1)"
   ]
  },
  {
   "cell_type": "markdown",
   "metadata": {},
   "source": [
    "# 激活函数"
   ]
  },
  {
   "cell_type": "code",
   "execution_count": 6,
   "metadata": {},
   "outputs": [],
   "source": [
    "def sigmoid(z):\n",
    "    \"\"\"The sigmoid function.\"\"\"\n",
    "    return 1.0/(1.0+np.exp(-z))\n",
    "\n",
    "def sigmoid_prime(z):\n",
    "    \"\"\"Derivative of the sigmoid function.\"\"\"\n",
    "    return sigmoid(z)*(1-sigmoid(z))"
   ]
  },
  {
   "cell_type": "markdown",
   "metadata": {},
   "source": [
    "# 开始训练"
   ]
  },
  {
   "cell_type": "code",
   "execution_count": 10,
   "metadata": {},
   "outputs": [
    {
     "name": "stdout",
     "output_type": "stream",
     "text": [
      "[TRAIN_ERROR] Epoch 00: 29747 / 50000\n",
      "[ TEST_ERROR] Epoch 00:  5088 / 10000\n",
      "[TRAIN_ERROR] Epoch 01: 22706 / 50000\n",
      "[ TEST_ERROR] Epoch 01:  4272 / 10000\n",
      "[TRAIN_ERROR] Epoch 02: 21278 / 50000\n",
      "[ TEST_ERROR] Epoch 02:  4217 / 10000\n",
      "[TRAIN_ERROR] Epoch 03: 21018 / 50000\n",
      "[ TEST_ERROR] Epoch 03:  4182 / 10000\n",
      "[TRAIN_ERROR] Epoch 04: 20828 / 50000\n",
      "[ TEST_ERROR] Epoch 04:  4158 / 10000\n",
      "[TRAIN_ERROR] Epoch 05: 20640 / 50000\n",
      "[ TEST_ERROR] Epoch 05:  4114 / 10000\n",
      "[TRAIN_ERROR] Epoch 06: 18607 / 50000\n",
      "[ TEST_ERROR] Epoch 06:  3328 / 10000\n",
      "[TRAIN_ERROR] Epoch 07: 16467 / 50000\n",
      "[ TEST_ERROR] Epoch 07:  3302 / 10000\n",
      "[TRAIN_ERROR] Epoch 08: 16257 / 50000\n",
      "[ TEST_ERROR] Epoch 08:  3277 / 10000\n",
      "[TRAIN_ERROR] Epoch 09: 16095 / 50000\n",
      "[ TEST_ERROR] Epoch 09:  3253 / 10000\n",
      "[TRAIN_ERROR] Epoch 10: 16022 / 50000\n",
      "[ TEST_ERROR] Epoch 10:  3241 / 10000\n",
      "[TRAIN_ERROR] Epoch 11: 15939 / 50000\n",
      "[ TEST_ERROR] Epoch 11:  3232 / 10000\n",
      "[TRAIN_ERROR] Epoch 12: 15879 / 50000\n",
      "[ TEST_ERROR] Epoch 12:  3221 / 10000\n",
      "[TRAIN_ERROR] Epoch 13: 15806 / 50000\n",
      "[ TEST_ERROR] Epoch 13:  3220 / 10000\n",
      "[TRAIN_ERROR] Epoch 14: 15775 / 50000\n",
      "[ TEST_ERROR] Epoch 14:  3233 / 10000\n",
      "[TRAIN_ERROR] Epoch 15: 15724 / 50000\n",
      "[ TEST_ERROR] Epoch 15:  3222 / 10000\n",
      "[TRAIN_ERROR] Epoch 16: 15678 / 50000\n",
      "[ TEST_ERROR] Epoch 16:  3199 / 10000\n",
      "[TRAIN_ERROR] Epoch 17: 15651 / 50000\n",
      "[ TEST_ERROR] Epoch 17:  3195 / 10000\n",
      "[TRAIN_ERROR] Epoch 18: 15589 / 50000\n",
      "[ TEST_ERROR] Epoch 18:  3208 / 10000\n",
      "[TRAIN_ERROR] Epoch 19: 15572 / 50000\n",
      "[ TEST_ERROR] Epoch 19:  3204 / 10000\n",
      "[TRAIN_ERROR] Epoch 20: 15543 / 50000\n",
      "[ TEST_ERROR] Epoch 20:  3201 / 10000\n",
      "[TRAIN_ERROR] Epoch 21: 15524 / 50000\n",
      "[ TEST_ERROR] Epoch 21:  3192 / 10000\n",
      "[TRAIN_ERROR] Epoch 22: 15486 / 50000\n",
      "[ TEST_ERROR] Epoch 22:  3198 / 10000\n",
      "[TRAIN_ERROR] Epoch 23: 15463 / 50000\n",
      "[ TEST_ERROR] Epoch 23:  3192 / 10000\n",
      "[TRAIN_ERROR] Epoch 24: 15454 / 50000\n",
      "[ TEST_ERROR] Epoch 24:  3194 / 10000\n",
      "[TRAIN_ERROR] Epoch 25: 15432 / 50000\n",
      "[ TEST_ERROR] Epoch 25:  3192 / 10000\n",
      "[TRAIN_ERROR] Epoch 26: 15399 / 50000\n",
      "[ TEST_ERROR] Epoch 26:  3187 / 10000\n",
      "[TRAIN_ERROR] Epoch 27: 15368 / 50000\n",
      "[ TEST_ERROR] Epoch 27:  3174 / 10000\n",
      "[TRAIN_ERROR] Epoch 28: 15331 / 50000\n",
      "[ TEST_ERROR] Epoch 28:  3168 / 10000\n",
      "[TRAIN_ERROR] Epoch 29: 15279 / 50000\n",
      "[ TEST_ERROR] Epoch 29:  3159 / 10000\n",
      "done!\n"
     ]
    }
   ],
   "source": [
    "### Training\n",
    "test_errors = []\n",
    "training_errors = []\n",
    "n = len(training_data)\n",
    "\n",
    "\n",
    "for j in range(n_epoch):\n",
    "\n",
    "    ## Stochastic Gradient Descent\n",
    "    np.random.shuffle(training_data)\n",
    "\n",
    "    # for each batch\n",
    "    sum_of_training_error = 0\n",
    "    for k in range(0, n, batch_size):\n",
    "        batch = training_data[k:k+batch_size]\n",
    "\n",
    "        # average gradient for samples in a batch\n",
    "        sum_gradient_b3 = 0\n",
    "        sum_gradient_b2 = 0\n",
    "        sum_gradient_W3 = 0\n",
    "        sum_gradient_W2 = 0\n",
    "\n",
    "        # for each sample\n",
    "        for x, y in batch:\n",
    "            ## Feed forward\n",
    "\n",
    "            a1 = x\n",
    "            z2 = np.dot(W2, a1) + b2\n",
    "            a2 = sigmoid(z2)\n",
    "            z3 = np.dot(W3, a2) + b3\n",
    "            a3 = sigmoid(z3)\n",
    "\n",
    "            ## Backpropagation\n",
    "\n",
    "            # Step 1: Error at the output layer [Quadratic Cost]\n",
    "            delta_3 = (a3-y)*sigmoid_prime(z3)\n",
    "            # Step 2: Error relationship between two adjacent layers\n",
    "            delta_2 =  sigmoid_prime(z2)*np.dot(W3.transpose(), delta_3)\n",
    "            # Step 3: Gradient of C in terms of bias\n",
    "            gradient_b3 = delta_3\n",
    "            gradient_b2 = delta_2\n",
    "            # Step 4: Gradient of C in terms of weight\n",
    "            gradient_W3 = np.dot(delta_3, a2.transpose())\n",
    "            gradient_W2 = np.dot(delta_2, a1.transpose())\n",
    "\n",
    "            # update gradients\n",
    "            sum_gradient_b3 += gradient_b3\n",
    "            sum_gradient_b2 += gradient_b2\n",
    "            sum_gradient_W3 += gradient_W3\n",
    "            sum_gradient_W2 += gradient_W2\n",
    "\n",
    "            ## Training Error\n",
    "            sum_of_training_error += int(np.argmax(a3) != np.argmax(y))\n",
    "\n",
    "        # update weights & biases via momentum-based SGD\n",
    "        v_b3 = mu * v_b3 - learning_rate * sum_gradient_b3 / batch_size\n",
    "        b3 += v_b3\n",
    "        v_b2 = mu*v_b2 - learning_rate * sum_gradient_b2 / batch_size\n",
    "        b2 += v_b2\n",
    "        v_W3 = mu * v_W3 - learning_rate * sum_gradient_W3 / batch_size\n",
    "        W3 += v_W3\n",
    "        v_W2 = mu * v_W2 - learning_rate * sum_gradient_W2 / batch_size\n",
    "        W2 += v_W2\n",
    "\n",
    "    # Report Training Error\n",
    "    print(\"[TRAIN_ERROR] Epoch %02d: %5d / %05d\" % (j, sum_of_training_error, n))\n",
    "    training_errors.append(np.float(sum_of_training_error) / n)\n",
    "\n",
    "    ### Test\n",
    "    n_test = len(test_data)\n",
    "    sum_of_test_error = 0\n",
    "    for x, y in test_data:\n",
    "        ## Feed forward\n",
    "\n",
    "        a1 = x\n",
    "        z2 = np.dot(W2, a1) + b2\n",
    "        a2 = sigmoid(z2)\n",
    "        z3 = np.dot(W3, a2) + b3\n",
    "        a3 = sigmoid(z3)\n",
    "\n",
    "        ## Test Error\n",
    "        # in test data, label info is a number not one-hot vector as in training data\n",
    "        sum_of_test_error += int(np.argmax(a3) != y)\n",
    "\n",
    "    # Report Test Error\n",
    "    print(\"[ TEST_ERROR] Epoch %02d: %5d / %05d\" % (j, sum_of_test_error, n_test))\n",
    "\n",
    "    test_errors.append(np.float(sum_of_test_error)/n_test)\n",
    "print(\"done!\")"
   ]
  },
  {
   "cell_type": "code",
   "execution_count": null,
   "metadata": {},
   "outputs": [],
   "source": []
  }
 ],
 "metadata": {
  "kernelspec": {
   "display_name": "Python 3",
   "language": "python",
   "name": "python3"
  },
  "language_info": {
   "codemirror_mode": {
    "name": "ipython",
    "version": 3
   },
   "file_extension": ".py",
   "mimetype": "text/x-python",
   "name": "python",
   "nbconvert_exporter": "python",
   "pygments_lexer": "ipython3",
   "version": "3.6.5"
  }
 },
 "nbformat": 4,
 "nbformat_minor": 2
}
