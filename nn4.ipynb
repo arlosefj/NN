{
 "cells": [
  {
   "cell_type": "markdown",
   "metadata": {},
   "source": [
    "# 导入库"
   ]
  },
  {
   "cell_type": "code",
   "execution_count": 1,
   "metadata": {},
   "outputs": [],
   "source": [
    "import numpy as np\n",
    "from scipy import ndimage\n",
    "import matplotlib.pyplot as plt\n",
    "from load_data import *\n",
    "%matplotlib inline"
   ]
  },
  {
   "cell_type": "markdown",
   "metadata": {},
   "source": [
    "# 载入数据"
   ]
  },
  {
   "cell_type": "code",
   "execution_count": 2,
   "metadata": {},
   "outputs": [],
   "source": [
    "training_data, validation_data, test_data = load_data_wrapper()"
   ]
  },
  {
   "cell_type": "markdown",
   "metadata": {},
   "source": [
    "# 训练参数"
   ]
  },
  {
   "cell_type": "code",
   "execution_count": 3,
   "metadata": {},
   "outputs": [],
   "source": [
    "n_epoch = 30\n",
    "learning_rate = 0.1\n",
    "batch_size = 10\n",
    "\n",
    "# for adgrad\n",
    "ESP = 0.000001\n",
    "\n",
    "lr_b2 = ESP\n",
    "lr_w2 = ESP\n",
    "lr_b3 = ESP\n",
    "lr_w3 = ESP\n",
    "\n"
   ]
  },
  {
   "cell_type": "markdown",
   "metadata": {},
   "source": [
    "# 网络结构"
   ]
  },
  {
   "cell_type": "code",
   "execution_count": 4,
   "metadata": {},
   "outputs": [],
   "source": [
    "n_node_input = 784\n",
    "n_node_hidden = 100\n",
    "n_node_output = 10"
   ]
  },
  {
   "cell_type": "markdown",
   "metadata": {},
   "source": [
    "# 权重与偏置"
   ]
  },
  {
   "cell_type": "code",
   "execution_count": 5,
   "metadata": {},
   "outputs": [],
   "source": [
    "W2=np.random.randn(n_node_hidden, n_node_input)\n",
    "b2=np.random.randn(n_node_hidden, 1)\n",
    "\n",
    "W3=np.random.randn(n_node_output, n_node_hidden)\n",
    "b3=np.random.randn(n_node_output, 1)"
   ]
  },
  {
   "cell_type": "markdown",
   "metadata": {},
   "source": [
    "# 激活函数"
   ]
  },
  {
   "cell_type": "code",
   "execution_count": 6,
   "metadata": {},
   "outputs": [],
   "source": [
    "def sigmoid(z):\n",
    "    \"\"\"The sigmoid function.\"\"\"\n",
    "    return 1.0/(1.0+np.exp(-z))\n",
    "\n",
    "def sigmoid_prime(z):\n",
    "    \"\"\"Derivative of the sigmoid function.\"\"\"\n",
    "    return sigmoid(z)*(1-sigmoid(z))"
   ]
  },
  {
   "cell_type": "markdown",
   "metadata": {},
   "source": [
    "# 开始训练"
   ]
  },
  {
   "cell_type": "code",
   "execution_count": null,
   "metadata": {},
   "outputs": [
    {
     "name": "stdout",
     "output_type": "stream",
     "text": [
      "[TRAIN_ERROR] Epoch 00: 14841 / 50000\n",
      "[ TEST_ERROR] Epoch 00:  2465 / 10000\n",
      "[TRAIN_ERROR] Epoch 01: 11787 / 50000\n",
      "[ TEST_ERROR] Epoch 01:  2385 / 10000\n",
      "[TRAIN_ERROR] Epoch 02:  9434 / 50000\n",
      "[ TEST_ERROR] Epoch 02:  1461 / 10000\n",
      "[TRAIN_ERROR] Epoch 03:  6777 / 50000\n",
      "[ TEST_ERROR] Epoch 03:  1415 / 10000\n",
      "[TRAIN_ERROR] Epoch 04:  6563 / 50000\n",
      "[ TEST_ERROR] Epoch 04:  1405 / 10000\n",
      "[TRAIN_ERROR] Epoch 05:  6409 / 50000\n",
      "[ TEST_ERROR] Epoch 05:  1399 / 10000\n",
      "[TRAIN_ERROR] Epoch 06:  6297 / 50000\n",
      "[ TEST_ERROR] Epoch 06:  1386 / 10000\n",
      "[TRAIN_ERROR] Epoch 07:  6221 / 50000\n",
      "[ TEST_ERROR] Epoch 07:  1373 / 10000\n",
      "[TRAIN_ERROR] Epoch 08:  6167 / 50000\n",
      "[ TEST_ERROR] Epoch 08:  1367 / 10000\n",
      "[TRAIN_ERROR] Epoch 09:  6114 / 50000\n",
      "[ TEST_ERROR] Epoch 09:  1362 / 10000\n",
      "[TRAIN_ERROR] Epoch 10:  6064 / 50000\n",
      "[ TEST_ERROR] Epoch 10:  1363 / 10000\n",
      "[TRAIN_ERROR] Epoch 11:  6015 / 50000\n",
      "[ TEST_ERROR] Epoch 11:  1354 / 10000\n",
      "[TRAIN_ERROR] Epoch 12:  5984 / 50000\n",
      "[ TEST_ERROR] Epoch 12:  1357 / 10000\n",
      "[TRAIN_ERROR] Epoch 13:  5935 / 50000\n",
      "[ TEST_ERROR] Epoch 13:  1352 / 10000\n",
      "[TRAIN_ERROR] Epoch 14:  5922 / 50000\n",
      "[ TEST_ERROR] Epoch 14:  1353 / 10000\n",
      "[TRAIN_ERROR] Epoch 15:  5901 / 50000\n",
      "[ TEST_ERROR] Epoch 15:  1349 / 10000\n",
      "[TRAIN_ERROR] Epoch 16:  5879 / 50000\n",
      "[ TEST_ERROR] Epoch 16:  1360 / 10000\n",
      "[TRAIN_ERROR] Epoch 17:  5860 / 50000\n",
      "[ TEST_ERROR] Epoch 17:  1351 / 10000\n",
      "[TRAIN_ERROR] Epoch 18:  5841 / 50000\n",
      "[ TEST_ERROR] Epoch 18:  1351 / 10000\n",
      "[TRAIN_ERROR] Epoch 19:  5832 / 50000\n",
      "[ TEST_ERROR] Epoch 19:  1346 / 10000\n",
      "[TRAIN_ERROR] Epoch 20:  5819 / 50000\n",
      "[ TEST_ERROR] Epoch 20:  1348 / 10000\n",
      "[TRAIN_ERROR] Epoch 21:  5808 / 50000\n",
      "[ TEST_ERROR] Epoch 21:  1341 / 10000\n",
      "[TRAIN_ERROR] Epoch 22:  5800 / 50000\n",
      "[ TEST_ERROR] Epoch 22:  1345 / 10000\n",
      "[TRAIN_ERROR] Epoch 23:  5780 / 50000\n",
      "[ TEST_ERROR] Epoch 23:  1335 / 10000\n",
      "[TRAIN_ERROR] Epoch 24:  5766 / 50000\n",
      "[ TEST_ERROR] Epoch 24:  1342 / 10000\n",
      "[TRAIN_ERROR] Epoch 25:  5759 / 50000\n",
      "[ TEST_ERROR] Epoch 25:  1340 / 10000\n",
      "[TRAIN_ERROR] Epoch 26:  5744 / 50000\n",
      "[ TEST_ERROR] Epoch 26:  1338 / 10000\n",
      "[TRAIN_ERROR] Epoch 27:  5741 / 50000\n",
      "[ TEST_ERROR] Epoch 27:  1339 / 10000\n",
      "[TRAIN_ERROR] Epoch 28:  5728 / 50000\n",
      "[ TEST_ERROR] Epoch 28:  1332 / 10000\n"
     ]
    }
   ],
   "source": [
    "### Training\n",
    "test_errors = []\n",
    "training_errors = []\n",
    "n = len(training_data)\n",
    "\n",
    "\n",
    "for j in range(n_epoch):\n",
    "\n",
    "    ## Stochastic Gradient Descent\n",
    "    np.random.shuffle(training_data)\n",
    "\n",
    "    # for each batch\n",
    "    sum_of_training_error = 0\n",
    "    for k in range(0, n, batch_size):\n",
    "        batch = training_data[k:k+batch_size]\n",
    "\n",
    "        # average gradient for samples in a batch\n",
    "        sum_gradient_b3 = 0\n",
    "        sum_gradient_b2 = 0\n",
    "        sum_gradient_W3 = 0\n",
    "        sum_gradient_W2 = 0\n",
    "\n",
    "        # for each sample\n",
    "        for x, y in batch:\n",
    "            ## Feed forward\n",
    "\n",
    "            a1 = x\n",
    "            z2 = np.dot(W2, a1) + b2\n",
    "            a2 = sigmoid(z2)\n",
    "            z3 = np.dot(W3, a2) + b3\n",
    "            a3 = sigmoid(z3)\n",
    "\n",
    "            ## Backpropagation\n",
    "\n",
    "            # Step 1: Error at the output layer [Quadratic Cost]\n",
    "            delta_3 = (a3-y)*sigmoid_prime(z3)\n",
    "            # Step 2: Error relationship between two adjacent layers\n",
    "            delta_2 =  sigmoid_prime(z2)*np.dot(W3.transpose(), delta_3)\n",
    "            # Step 3: Gradient of C in terms of bias\n",
    "            gradient_b3 = delta_3\n",
    "            gradient_b2 = delta_2\n",
    "            # Step 4: Gradient of C in terms of weight\n",
    "            gradient_W3 = np.dot(delta_3, a2.transpose())\n",
    "            gradient_W2 = np.dot(delta_2, a1.transpose())\n",
    "\n",
    "            # update gradients\n",
    "            sum_gradient_b3 += gradient_b3\n",
    "            sum_gradient_b2 += gradient_b2\n",
    "            sum_gradient_W3 += gradient_W3\n",
    "            sum_gradient_W2 += gradient_W2\n",
    "\n",
    "            ## Training Error\n",
    "            sum_of_training_error += int(np.argmax(a3) != np.argmax(y))\n",
    "\n",
    "        # update weights & biases via adgrad\n",
    "        # adgrad\n",
    "        lr_b3 = lr_b3 + (sum_gradient_b3 / batch_size) **2\n",
    "        lr_w3 = lr_w3 + (sum_gradient_W3 / batch_size) **2\n",
    "        lr_b2 = lr_b2 + (sum_gradient_b2 / batch_size) **2\n",
    "        lr_w2 = lr_w2 + (sum_gradient_W2 / batch_size) **2\n",
    "        \n",
    "        b3 -= learning_rate / np.sqrt(lr_b3) * sum_gradient_b3 / batch_size\n",
    "        b2 -= learning_rate / np.sqrt(lr_b2) * sum_gradient_b2 / batch_size\n",
    "        W3 -= learning_rate / np.sqrt(lr_w3) * sum_gradient_W3 / batch_size\n",
    "        W2 -= learning_rate / np.sqrt(lr_w2) * sum_gradient_W2 / batch_size\n",
    "\n",
    "    # Report Training Error\n",
    "    print(\"[TRAIN_ERROR] Epoch %02d: %5d / %05d\" % (j, sum_of_training_error, n))\n",
    "    training_errors.append(np.float(sum_of_training_error) / n)\n",
    "\n",
    "    ### Test\n",
    "    n_test = len(test_data)\n",
    "    sum_of_test_error = 0\n",
    "    for x, y in test_data:\n",
    "        ## Feed forward\n",
    "\n",
    "        a1 = x\n",
    "        z2 = np.dot(W2, a1) + b2\n",
    "        a2 = sigmoid(z2)\n",
    "        z3 = np.dot(W3, a2) + b3\n",
    "        a3 = sigmoid(z3)\n",
    "\n",
    "        ## Test Error\n",
    "        # in test data, label info is a number not one-hot vector as in training data\n",
    "        sum_of_test_error += int(np.argmax(a3) != y)\n",
    "\n",
    "    # Report Test Error\n",
    "    print(\"[ TEST_ERROR] Epoch %02d: %5d / %05d\" % (j, sum_of_test_error, n_test))\n",
    "\n",
    "    test_errors.append(np.float(sum_of_test_error)/n_test)\n",
    "print(\"done!\")"
   ]
  },
  {
   "cell_type": "code",
   "execution_count": null,
   "metadata": {},
   "outputs": [],
   "source": []
  }
 ],
 "metadata": {
  "kernelspec": {
   "display_name": "Python 3",
   "language": "python",
   "name": "python3"
  },
  "language_info": {
   "codemirror_mode": {
    "name": "ipython",
    "version": 3
   },
   "file_extension": ".py",
   "mimetype": "text/x-python",
   "name": "python",
   "nbconvert_exporter": "python",
   "pygments_lexer": "ipython3",
   "version": "3.6.5"
  }
 },
 "nbformat": 4,
 "nbformat_minor": 2
}
